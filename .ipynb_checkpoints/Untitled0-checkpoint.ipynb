{
 "metadata": {
  "name": "",
  "signature": "sha256:493f78e17d20fc821a9a7393f882724815f78c504405f786b969d82d1371368c"
 },
 "nbformat": 3,
 "nbformat_minor": 0,
 "worksheets": []
}