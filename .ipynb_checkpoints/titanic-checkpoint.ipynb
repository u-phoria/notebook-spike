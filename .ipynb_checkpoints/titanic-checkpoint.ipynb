{
 "metadata": {
  "name": "",
  "signature": "sha256:1f57c257cb47356753cda80a2df8239e5d5829852c0af372a79e80331a288435"
 },
 "nbformat": 3,
 "nbformat_minor": 0,
 "worksheets": [
  {
   "cells": [
    {
     "cell_type": "code",
     "collapsed": false,
     "input": [
      "%matplotlib inline\n",
      "import pandas as pd\n",
      "import csv as csv\n",
      "import numpy as np\n",
      "import matplotlib.pyplot as plt\n",
      "import re"
     ],
     "language": "python",
     "metadata": {},
     "outputs": [],
     "prompt_number": 117
    },
    {
     "cell_type": "heading",
     "level": 2,
     "metadata": {},
     "source": [
      "Load Data"
     ]
    },
    {
     "cell_type": "code",
     "collapsed": false,
     "input": [
      "data = []\n",
      "csv_file_object = csv.reader(open('titanic_data/train.csv', 'rb')) \n",
      "header = csv_file_object.next()\n",
      "for row in csv_file_object:\n",
      "    data.append(row)\n",
      "data = np.array(data)"
     ],
     "language": "python",
     "metadata": {},
     "outputs": [],
     "prompt_number": 8
    },
    {
     "cell_type": "code",
     "collapsed": false,
     "input": [
      "df = pd.read_csv('titanic_data/train.csv', header=0)\n",
      "df.set_index('PassengerId')\n",
      "df.head()"
     ],
     "language": "python",
     "metadata": {},
     "outputs": [
      {
       "html": [
        "<div style=\"max-height:1000px;max-width:1500px;overflow:auto;\">\n",
        "<table border=\"1\" class=\"dataframe\">\n",
        "  <thead>\n",
        "    <tr style=\"text-align: right;\">\n",
        "      <th></th>\n",
        "      <th>PassengerId</th>\n",
        "      <th>Survived</th>\n",
        "      <th>Pclass</th>\n",
        "      <th>Name</th>\n",
        "      <th>Sex</th>\n",
        "      <th>Age</th>\n",
        "      <th>SibSp</th>\n",
        "      <th>Parch</th>\n",
        "      <th>Ticket</th>\n",
        "      <th>Fare</th>\n",
        "      <th>Cabin</th>\n",
        "      <th>Embarked</th>\n",
        "    </tr>\n",
        "  </thead>\n",
        "  <tbody>\n",
        "    <tr>\n",
        "      <th>0</th>\n",
        "      <td> 1</td>\n",
        "      <td> 0</td>\n",
        "      <td> 3</td>\n",
        "      <td>                           Braund, Mr. Owen Harris</td>\n",
        "      <td>   male</td>\n",
        "      <td> 22</td>\n",
        "      <td> 1</td>\n",
        "      <td> 0</td>\n",
        "      <td>        A/5 21171</td>\n",
        "      <td>  7.2500</td>\n",
        "      <td>  NaN</td>\n",
        "      <td> S</td>\n",
        "    </tr>\n",
        "    <tr>\n",
        "      <th>1</th>\n",
        "      <td> 2</td>\n",
        "      <td> 1</td>\n",
        "      <td> 1</td>\n",
        "      <td> Cumings, Mrs. John Bradley (Florence Briggs Th...</td>\n",
        "      <td> female</td>\n",
        "      <td> 38</td>\n",
        "      <td> 1</td>\n",
        "      <td> 0</td>\n",
        "      <td>         PC 17599</td>\n",
        "      <td> 71.2833</td>\n",
        "      <td>  C85</td>\n",
        "      <td> C</td>\n",
        "    </tr>\n",
        "    <tr>\n",
        "      <th>2</th>\n",
        "      <td> 3</td>\n",
        "      <td> 1</td>\n",
        "      <td> 3</td>\n",
        "      <td>                            Heikkinen, Miss. Laina</td>\n",
        "      <td> female</td>\n",
        "      <td> 26</td>\n",
        "      <td> 0</td>\n",
        "      <td> 0</td>\n",
        "      <td> STON/O2. 3101282</td>\n",
        "      <td>  7.9250</td>\n",
        "      <td>  NaN</td>\n",
        "      <td> S</td>\n",
        "    </tr>\n",
        "    <tr>\n",
        "      <th>3</th>\n",
        "      <td> 4</td>\n",
        "      <td> 1</td>\n",
        "      <td> 1</td>\n",
        "      <td>      Futrelle, Mrs. Jacques Heath (Lily May Peel)</td>\n",
        "      <td> female</td>\n",
        "      <td> 35</td>\n",
        "      <td> 1</td>\n",
        "      <td> 0</td>\n",
        "      <td>           113803</td>\n",
        "      <td> 53.1000</td>\n",
        "      <td> C123</td>\n",
        "      <td> S</td>\n",
        "    </tr>\n",
        "    <tr>\n",
        "      <th>4</th>\n",
        "      <td> 5</td>\n",
        "      <td> 0</td>\n",
        "      <td> 3</td>\n",
        "      <td>                          Allen, Mr. William Henry</td>\n",
        "      <td>   male</td>\n",
        "      <td> 35</td>\n",
        "      <td> 0</td>\n",
        "      <td> 0</td>\n",
        "      <td>           373450</td>\n",
        "      <td>  8.0500</td>\n",
        "      <td>  NaN</td>\n",
        "      <td> S</td>\n",
        "    </tr>\n",
        "  </tbody>\n",
        "</table>\n",
        "</div>"
       ],
       "metadata": {},
       "output_type": "pyout",
       "prompt_number": 30,
       "text": [
        "   PassengerId  Survived  Pclass  \\\n",
        "0            1         0       3   \n",
        "1            2         1       1   \n",
        "2            3         1       3   \n",
        "3            4         1       1   \n",
        "4            5         0       3   \n",
        "\n",
        "                                                Name     Sex  Age  SibSp  \\\n",
        "0                            Braund, Mr. Owen Harris    male   22      1   \n",
        "1  Cumings, Mrs. John Bradley (Florence Briggs Th...  female   38      1   \n",
        "2                             Heikkinen, Miss. Laina  female   26      0   \n",
        "3       Futrelle, Mrs. Jacques Heath (Lily May Peel)  female   35      1   \n",
        "4                           Allen, Mr. William Henry    male   35      0   \n",
        "\n",
        "   Parch            Ticket     Fare Cabin Embarked  \n",
        "0      0         A/5 21171   7.2500   NaN        S  \n",
        "1      0          PC 17599  71.2833   C85        C  \n",
        "2      0  STON/O2. 3101282   7.9250   NaN        S  \n",
        "3      0            113803  53.1000  C123        S  \n",
        "4      0            373450   8.0500   NaN        S  "
       ]
      }
     ],
     "prompt_number": 30
    },
    {
     "cell_type": "heading",
     "level": 2,
     "metadata": {},
     "source": [
      "Preprocessing"
     ]
    },
    {
     "cell_type": "code",
     "collapsed": false,
     "input": [
      "df.describe()"
     ],
     "language": "python",
     "metadata": {},
     "outputs": [
      {
       "html": [
        "<div style=\"max-height:1000px;max-width:1500px;overflow:auto;\">\n",
        "<table border=\"1\" class=\"dataframe\">\n",
        "  <thead>\n",
        "    <tr style=\"text-align: right;\">\n",
        "      <th></th>\n",
        "      <th>PassengerId</th>\n",
        "      <th>Survived</th>\n",
        "      <th>Pclass</th>\n",
        "      <th>Age</th>\n",
        "      <th>SibSp</th>\n",
        "      <th>Parch</th>\n",
        "      <th>Fare</th>\n",
        "    </tr>\n",
        "  </thead>\n",
        "  <tbody>\n",
        "    <tr>\n",
        "      <th>count</th>\n",
        "      <td> 891.000000</td>\n",
        "      <td> 891.000000</td>\n",
        "      <td> 891.000000</td>\n",
        "      <td> 714.000000</td>\n",
        "      <td> 891.000000</td>\n",
        "      <td> 891.000000</td>\n",
        "      <td> 891.000000</td>\n",
        "    </tr>\n",
        "    <tr>\n",
        "      <th>mean</th>\n",
        "      <td> 446.000000</td>\n",
        "      <td>   0.383838</td>\n",
        "      <td>   2.308642</td>\n",
        "      <td>  29.699118</td>\n",
        "      <td>   0.523008</td>\n",
        "      <td>   0.381594</td>\n",
        "      <td>  32.204208</td>\n",
        "    </tr>\n",
        "    <tr>\n",
        "      <th>std</th>\n",
        "      <td> 257.353842</td>\n",
        "      <td>   0.486592</td>\n",
        "      <td>   0.836071</td>\n",
        "      <td>  14.526497</td>\n",
        "      <td>   1.102743</td>\n",
        "      <td>   0.806057</td>\n",
        "      <td>  49.693429</td>\n",
        "    </tr>\n",
        "    <tr>\n",
        "      <th>min</th>\n",
        "      <td>   1.000000</td>\n",
        "      <td>   0.000000</td>\n",
        "      <td>   1.000000</td>\n",
        "      <td>   0.420000</td>\n",
        "      <td>   0.000000</td>\n",
        "      <td>   0.000000</td>\n",
        "      <td>   0.000000</td>\n",
        "    </tr>\n",
        "    <tr>\n",
        "      <th>25%</th>\n",
        "      <td> 223.500000</td>\n",
        "      <td>   0.000000</td>\n",
        "      <td>   2.000000</td>\n",
        "      <td>  20.125000</td>\n",
        "      <td>   0.000000</td>\n",
        "      <td>   0.000000</td>\n",
        "      <td>   7.910400</td>\n",
        "    </tr>\n",
        "    <tr>\n",
        "      <th>50%</th>\n",
        "      <td> 446.000000</td>\n",
        "      <td>   0.000000</td>\n",
        "      <td>   3.000000</td>\n",
        "      <td>  28.000000</td>\n",
        "      <td>   0.000000</td>\n",
        "      <td>   0.000000</td>\n",
        "      <td>  14.454200</td>\n",
        "    </tr>\n",
        "    <tr>\n",
        "      <th>75%</th>\n",
        "      <td> 668.500000</td>\n",
        "      <td>   1.000000</td>\n",
        "      <td>   3.000000</td>\n",
        "      <td>  38.000000</td>\n",
        "      <td>   1.000000</td>\n",
        "      <td>   0.000000</td>\n",
        "      <td>  31.000000</td>\n",
        "    </tr>\n",
        "    <tr>\n",
        "      <th>max</th>\n",
        "      <td> 891.000000</td>\n",
        "      <td>   1.000000</td>\n",
        "      <td>   3.000000</td>\n",
        "      <td>  80.000000</td>\n",
        "      <td>   8.000000</td>\n",
        "      <td>   6.000000</td>\n",
        "      <td> 512.329200</td>\n",
        "    </tr>\n",
        "  </tbody>\n",
        "</table>\n",
        "</div>"
       ],
       "metadata": {},
       "output_type": "pyout",
       "prompt_number": 36,
       "text": [
        "       PassengerId    Survived      Pclass         Age       SibSp  \\\n",
        "count   891.000000  891.000000  891.000000  714.000000  891.000000   \n",
        "mean    446.000000    0.383838    2.308642   29.699118    0.523008   \n",
        "std     257.353842    0.486592    0.836071   14.526497    1.102743   \n",
        "min       1.000000    0.000000    1.000000    0.420000    0.000000   \n",
        "25%     223.500000    0.000000    2.000000   20.125000    0.000000   \n",
        "50%     446.000000    0.000000    3.000000   28.000000    0.000000   \n",
        "75%     668.500000    1.000000    3.000000   38.000000    1.000000   \n",
        "max     891.000000    1.000000    3.000000   80.000000    8.000000   \n",
        "\n",
        "            Parch        Fare  \n",
        "count  891.000000  891.000000  \n",
        "mean     0.381594   32.204208  \n",
        "std      0.806057   49.693429  \n",
        "min      0.000000    0.000000  \n",
        "25%      0.000000    7.910400  \n",
        "50%      0.000000   14.454200  \n",
        "75%      0.000000   31.000000  \n",
        "max      6.000000  512.329200  "
       ]
      }
     ],
     "prompt_number": 36
    },
    {
     "cell_type": "code",
     "collapsed": false,
     "input": [
      "df.info()"
     ],
     "language": "python",
     "metadata": {},
     "outputs": [
      {
       "output_type": "stream",
       "stream": "stdout",
       "text": [
        "<class 'pandas.core.frame.DataFrame'>\n",
        "Int64Index: 891 entries, 0 to 890\n",
        "Data columns (total 12 columns):\n",
        "PassengerId    891 non-null int64\n",
        "Survived       891 non-null int64\n",
        "Pclass         891 non-null int64\n",
        "Name           891 non-null object\n",
        "Sex            891 non-null object\n",
        "Age            714 non-null float64\n",
        "SibSp          891 non-null int64\n",
        "Parch          891 non-null int64\n",
        "Ticket         891 non-null object\n",
        "Fare           891 non-null float64\n",
        "Cabin          204 non-null object\n",
        "Embarked       889 non-null object\n",
        "dtypes: float64(2), int64(5), object(5)\n",
        "memory usage: 90.5 KB\n"
       ]
      }
     ],
     "prompt_number": 37
    },
    {
     "cell_type": "code",
     "collapsed": false,
     "input": [
      "df.Sex.value_counts()"
     ],
     "language": "python",
     "metadata": {},
     "outputs": [
      {
       "metadata": {},
       "output_type": "pyout",
       "prompt_number": 38,
       "text": [
        "male      577\n",
        "female    314\n",
        "dtype: int64"
       ]
      }
     ],
     "prompt_number": 38
    },
    {
     "cell_type": "code",
     "collapsed": false,
     "input": [
      "df = pd.concat([df, pd.get_dummies(df['Sex'], prefix='Gender'),], axis=1)"
     ],
     "language": "python",
     "metadata": {},
     "outputs": [],
     "prompt_number": 50
    },
    {
     "cell_type": "code",
     "collapsed": false,
     "input": [
      "df['Survived'].value_counts()"
     ],
     "language": "python",
     "metadata": {},
     "outputs": [
      {
       "metadata": {},
       "output_type": "pyout",
       "prompt_number": 13,
       "text": [
        "0    549\n",
        "1    342\n",
        "dtype: int64"
       ]
      }
     ],
     "prompt_number": 13
    },
    {
     "cell_type": "code",
     "collapsed": false,
     "input": [
      "df['Pclass'].value_counts()"
     ],
     "language": "python",
     "metadata": {},
     "outputs": [
      {
       "metadata": {},
       "output_type": "pyout",
       "prompt_number": 14,
       "text": [
        "3    491\n",
        "1    216\n",
        "2    184\n",
        "dtype: int64"
       ]
      }
     ],
     "prompt_number": 14
    },
    {
     "cell_type": "code",
     "collapsed": false,
     "input": [
      "print df[df['Age'].isnull()].shape[0]\n",
      "df['Age'].hist()"
     ],
     "language": "python",
     "metadata": {},
     "outputs": [
      {
       "output_type": "stream",
       "stream": "stdout",
       "text": [
        "177\n"
       ]
      },
      {
       "metadata": {},
       "output_type": "pyout",
       "prompt_number": 35,
       "text": [
        "<matplotlib.axes.AxesSubplot at 0x10ae23c90>"
       ]
      },
      {
       "metadata": {},
       "output_type": "display_data",
       "png": "[encoded data removed]",
       "text": [
        "<matplotlib.figure.Figure at 0x10ad68150>"
       ]
      }
     ],
     "prompt_number": 35
    },
    {
     "cell_type": "code",
     "collapsed": false,
     "input": [
      "median_age_by_sex_and_class = df.groupby(['Sex','Pclass'])['Age'].median()"
     ],
     "language": "python",
     "metadata": {},
     "outputs": [],
     "prompt_number": 68
    },
    {
     "cell_type": "code",
     "collapsed": false,
     "input": [
      "df['AgeFill'] = df['Age']\n",
      "\n",
      "def lookup_age(row):\n",
      "    if not np.isnan(row['Age']):\n",
      "        return row['Age']\n",
      "    return median_age_by_sex_and_class[row['Sex']][row['Pclass']]\n",
      "\n",
      "df['AgeFill'] = df.apply(lookup_age, axis=1)\n",
      "\n",
      "df['AgeFill'].hist()"
     ],
     "language": "python",
     "metadata": {},
     "outputs": [
      {
       "metadata": {},
       "output_type": "pyout",
       "prompt_number": 108,
       "text": [
        "<matplotlib.axes.AxesSubplot at 0x10af4c590>"
       ]
      },
      {
       "metadata": {},
       "output_type": "display_data",
       "png": "[encoded data removed]",
       "text": [
        "<matplotlib.figure.Figure at 0x10af4cf10>"
       ]
      }
     ],
     "prompt_number": 108
    },
    {
     "cell_type": "code",
     "collapsed": false,
     "input": [
      "df['SibSp'].hist() "
     ],
     "language": "python",
     "metadata": {},
     "outputs": [
      {
       "metadata": {},
       "output_type": "pyout",
       "prompt_number": 110,
       "text": [
        "<matplotlib.axes.AxesSubplot at 0x10af64310>"
       ]
      },
      {
       "metadata": {},
       "output_type": "display_data",
       "png": "[encoded data removed]",
       "text": [
        "<matplotlib.figure.Figure at 0x10b150d90>"
       ]
      }
     ],
     "prompt_number": 110
    },
    {
     "cell_type": "code",
     "collapsed": false,
     "input": [
      "df['Parch'].hist()"
     ],
     "language": "python",
     "metadata": {},
     "outputs": [
      {
       "metadata": {},
       "output_type": "pyout",
       "prompt_number": 111,
       "text": [
        "<matplotlib.axes.AxesSubplot at 0x10b1e0d50>"
       ]
      },
      {
       "metadata": {},
       "output_type": "display_data",
       "png": "[encoded data removed]",
       "text": [
        "<matplotlib.figure.Figure at 0x10b179b10>"
       ]
      }
     ],
     "prompt_number": 111
    },
    {
     "cell_type": "code",
     "collapsed": false,
     "input": [
      "df['Fare'].hist()"
     ],
     "language": "python",
     "metadata": {},
     "outputs": [
      {
       "metadata": {},
       "output_type": "pyout",
       "prompt_number": 113,
       "text": [
        "<matplotlib.axes.AxesSubplot at 0x10b1ab490>"
       ]
      },
      {
       "metadata": {},
       "output_type": "display_data",
       "png": "[encoded data removed]",
       "text": [
        "<matplotlib.figure.Figure at 0x10af62b90>"
       ]
      }
     ],
     "prompt_number": 113
    },
    {
     "cell_type": "code",
     "collapsed": false,
     "input": [
      "df['Cabin'][df.Cabin.isnull()] = 'U0'\n",
      "df['CabinLetter'] = df['Cabin'].map( lambda x : re.compile(\"([a-zA-Z]+)\").search(x).group())\n",
      "df['CabinLetter'] = pd.factorize(df['CabinLetter'])[0]\n",
      "#df = pd.concat([df, pd.get_dummies(df['CabinLetter'], prefix='CabinLetter'),], axis=1)"
     ],
     "language": "python",
     "metadata": {},
     "outputs": [],
     "prompt_number": 138
    },
    {
     "cell_type": "code",
     "collapsed": false,
     "input": [
      "df['Embarked'].value_counts()"
     ],
     "language": "python",
     "metadata": {},
     "outputs": [
      {
       "metadata": {},
       "output_type": "pyout",
       "prompt_number": 140,
       "text": [
        "S    644\n",
        "C    168\n",
        "Q     77\n",
        "dtype: int64"
       ]
      }
     ],
     "prompt_number": 140
    },
    {
     "cell_type": "code",
     "collapsed": false,
     "input": [
      "df[df.Embarked.isnull()]"
     ],
     "language": "python",
     "metadata": {},
     "outputs": [
      {
       "html": [
        "<div style=\"max-height:1000px;max-width:1500px;overflow:auto;\">\n",
        "<table border=\"1\" class=\"dataframe\">\n",
        "  <thead>\n",
        "    <tr style=\"text-align: right;\">\n",
        "      <th></th>\n",
        "      <th>PassengerId</th>\n",
        "      <th>Survived</th>\n",
        "      <th>Pclass</th>\n",
        "      <th>Name</th>\n",
        "      <th>Sex</th>\n",
        "      <th>Age</th>\n",
        "      <th>SibSp</th>\n",
        "      <th>Parch</th>\n",
        "      <th>Ticket</th>\n",
        "      <th>Fare</th>\n",
        "      <th>Cabin</th>\n",
        "      <th>Embarked</th>\n",
        "      <th>Gender_female</th>\n",
        "      <th>Gender_male</th>\n",
        "      <th>AgeFill</th>\n",
        "      <th>CabinLetter</th>\n",
        "    </tr>\n",
        "  </thead>\n",
        "  <tbody>\n",
        "    <tr>\n",
        "      <th>61 </th>\n",
        "      <td>  62</td>\n",
        "      <td> 1</td>\n",
        "      <td> 1</td>\n",
        "      <td>                       Icard, Miss. Amelie</td>\n",
        "      <td> female</td>\n",
        "      <td> 38</td>\n",
        "      <td> 0</td>\n",
        "      <td> 0</td>\n",
        "      <td> 113572</td>\n",
        "      <td> 80</td>\n",
        "      <td> B28</td>\n",
        "      <td> NaN</td>\n",
        "      <td> 1</td>\n",
        "      <td> 0</td>\n",
        "      <td> 38</td>\n",
        "      <td> 6</td>\n",
        "    </tr>\n",
        "    <tr>\n",
        "      <th>829</th>\n",
        "      <td> 830</td>\n",
        "      <td> 1</td>\n",
        "      <td> 1</td>\n",
        "      <td> Stone, Mrs. George Nelson (Martha Evelyn)</td>\n",
        "      <td> female</td>\n",
        "      <td> 62</td>\n",
        "      <td> 0</td>\n",
        "      <td> 0</td>\n",
        "      <td> 113572</td>\n",
        "      <td> 80</td>\n",
        "      <td> B28</td>\n",
        "      <td> NaN</td>\n",
        "      <td> 1</td>\n",
        "      <td> 0</td>\n",
        "      <td> 62</td>\n",
        "      <td> 6</td>\n",
        "    </tr>\n",
        "  </tbody>\n",
        "</table>\n",
        "</div>"
       ],
       "metadata": {},
       "output_type": "pyout",
       "prompt_number": 141,
       "text": [
        "     PassengerId  Survived  Pclass                                       Name  \\\n",
        "61            62         1       1                        Icard, Miss. Amelie   \n",
        "829          830         1       1  Stone, Mrs. George Nelson (Martha Evelyn)   \n",
        "\n",
        "        Sex  Age  SibSp  Parch  Ticket  Fare Cabin Embarked  Gender_female  \\\n",
        "61   female   38      0      0  113572    80   B28      NaN              1   \n",
        "829  female   62      0      0  113572    80   B28      NaN              1   \n",
        "\n",
        "     Gender_male  AgeFill  CabinLetter  \n",
        "61             0       38            6  \n",
        "829            0       62            6  "
       ]
      }
     ],
     "prompt_number": 141
    },
    {
     "cell_type": "code",
     "collapsed": false,
     "input": [
      "# based on encyclopaedia titanica...:\n",
      "df.loc[df.Embarked.isnull(),\"Embarked\"] = 'S'"
     ],
     "language": "python",
     "metadata": {},
     "outputs": [],
     "prompt_number": 153
    },
    {
     "cell_type": "code",
     "collapsed": false,
     "input": [
      "features_list = df['Pclass','SibSp','Parch','Fare', \\\n",
      "                   'Embarked','Gender_female','Gender_male', \\\n",
      "                   'AgeFill','CabinLetter']\n",
      "X = df[features_list]\n",
      "y = df[\"Survived\"]"
     ],
     "language": "python",
     "metadata": {},
     "outputs": [
      {
       "output_type": "stream",
       "stream": "stdout",
       "text": [
        "<class 'pandas.core.frame.DataFrame'>\n",
        "Int64Index: 891 entries, 0 to 890\n",
        "Data columns (total 16 columns):\n",
        "PassengerId      891 non-null int64\n",
        "Survived         891 non-null int64\n",
        "Pclass           891 non-null int64\n",
        "Name             891 non-null object\n",
        "Sex              891 non-null object\n",
        "Age              714 non-null float64\n",
        "SibSp            891 non-null int64\n",
        "Parch            891 non-null int64\n",
        "Ticket           891 non-null object\n",
        "Fare             891 non-null float64\n",
        "Cabin            891 non-null object\n",
        "Embarked         891 non-null object\n",
        "Gender_female    891 non-null float64\n",
        "Gender_male      891 non-null float64\n",
        "AgeFill          891 non-null float64\n",
        "CabinLetter      891 non-null int64\n",
        "dtypes: float64(5), int64(6), object(5)\n",
        "memory usage: 118.3 KB\n"
       ]
      }
     ],
     "prompt_number": 155
    },
    {
     "cell_type": "code",
     "collapsed": false,
     "input": [],
     "language": "python",
     "metadata": {},
     "outputs": []
    },
    {
     "cell_type": "code",
     "collapsed": false,
     "input": [],
     "language": "python",
     "metadata": {},
     "outputs": []
    },
    {
     "cell_type": "code",
     "collapsed": false,
     "input": [
      "num_survived / total_passengers"
     ],
     "language": "python",
     "metadata": {},
     "outputs": [
      {
       "metadata": {},
       "output_type": "pyout",
       "prompt_number": 21,
       "text": [
        "0.38383838383838381"
       ]
      }
     ],
     "prompt_number": 21
    },
    {
     "cell_type": "code",
     "collapsed": false,
     "input": [
      "women_only_stats = data[0::,4] == \"female\""
     ],
     "language": "python",
     "metadata": {},
     "outputs": [],
     "prompt_number": 23
    },
    {
     "cell_type": "code",
     "collapsed": false,
     "input": [
      "men_only_stats = data[0::,4] == \"male\""
     ],
     "language": "python",
     "metadata": {},
     "outputs": [],
     "prompt_number": 24
    },
    {
     "cell_type": "code",
     "collapsed": false,
     "input": [
      "women_onboard = data[women_only_stats,1].astype(np.float)"
     ],
     "language": "python",
     "metadata": {},
     "outputs": [],
     "prompt_number": 32
    },
    {
     "cell_type": "code",
     "collapsed": false,
     "input": [
      "men_onboard = data[men_only_stats,1].astype(np.float)"
     ],
     "language": "python",
     "metadata": {},
     "outputs": [],
     "prompt_number": 33
    },
    {
     "cell_type": "code",
     "collapsed": false,
     "input": [
      "proportion_women_survived = \\\n",
      "                       np.sum(women_onboard) / np.size(women_onboard)  \n",
      "proportion_men_survived = \\\n",
      "                       np.sum(men_onboard) / np.size(men_onboard) \n",
      "\n",
      "# and then print it out\n",
      "print 'Proportion of women who survived is %s' % proportion_women_survived\n",
      "print 'Proportion of men who survived is %s' % proportion_men_survived"
     ],
     "language": "python",
     "metadata": {},
     "outputs": [
      {
       "output_type": "stream",
       "stream": "stdout",
       "text": [
        "Proportion of women who survived is 0.742038216561\n",
        "Proportion of men who survived is 0.188908145581\n"
       ]
      }
     ],
     "prompt_number": 34
    },
    {
     "cell_type": "code",
     "collapsed": false,
     "input": [
      "test_file = open('titanic_data/test.csv', 'rb')\n",
      "test_file_object = csv.reader(test_file)\n",
      "header = test_file_object.next()"
     ],
     "language": "python",
     "metadata": {},
     "outputs": [],
     "prompt_number": 35
    },
    {
     "cell_type": "code",
     "collapsed": false,
     "input": [
      "fare_ceiling = 40\n",
      "data[data[0::,9].astype(np.float) >= fare_ceiling,9] = fare_ceiling - 1.0"
     ],
     "language": "python",
     "metadata": {},
     "outputs": [],
     "prompt_number": 38
    },
    {
     "cell_type": "code",
     "collapsed": false,
     "input": [
      "fare_bracket_size = 10\n",
      "number_of_price_brackets = fare_ceiling / fare_bracket_size"
     ],
     "language": "python",
     "metadata": {},
     "outputs": [],
     "prompt_number": 39
    },
    {
     "cell_type": "code",
     "collapsed": false,
     "input": [
      "number_of_classes = 3\n",
      "number_of_classes = len(np.unique(data[0::,2]))"
     ],
     "language": "python",
     "metadata": {},
     "outputs": [],
     "prompt_number": 40
    },
    {
     "cell_type": "code",
     "collapsed": false,
     "input": [
      "survival_table = np.zeros((2, number_of_classes, number_of_price_brackets))"
     ],
     "language": "python",
     "metadata": {},
     "outputs": [],
     "prompt_number": 43
    },
    {
     "cell_type": "code",
     "collapsed": false,
     "input": [
      "data[[True,True,False]]"
     ],
     "language": "python",
     "metadata": {},
     "outputs": [
      {
       "metadata": {},
       "output_type": "pyout",
       "prompt_number": 54,
       "text": [
        "array(['1', '1', '0'], \n",
        "      dtype='|S82')"
       ]
      }
     ],
     "prompt_number": 54
    },
    {
     "cell_type": "code",
     "collapsed": false,
     "input": [
      "for i in xrange(number_of_classes):       #loop through each class\n",
      "  for j in xrange(number_of_price_brackets):   #loop through each price bin\n",
      "    women_only_stats = data[                          \\\n",
      "                         (data[0::,4] == \"female\")    \\\n",
      "                       &(data[0::,2].astype(np.float) \\\n",
      "                             == i+1) \\\n",
      "                       &(data[0:,9].astype(np.float)  \\\n",
      "                            >= j*fare_bracket_size)   \\\n",
      "                       &(data[0:,9].astype(np.float)  \\\n",
      "                            < (j+1)*fare_bracket_size)\\\n",
      "                          , 1]                        \n",
      "    men_only_stats = data[                            \\\n",
      "                         (data[0::,4] != \"female\")    \\\n",
      "                       &(data[0::,2].astype(np.float) \\\n",
      "                             == i+1)                  \\\n",
      "                       &(data[0:,9].astype(np.float)  \\\n",
      "                            >= j*fare_bracket_size)   \\\n",
      "                       &(data[0:,9].astype(np.float)  \\\n",
      "                            < (j+1)*fare_bracket_size)\\\n",
      "                          , 1]\n",
      "    survival_table[0,i,j] = np.mean(women_only_stats.astype(np.float)) \n",
      "    survival_table[1,i,j] = np.mean(men_only_stats.astype(np.float))"
     ],
     "language": "python",
     "metadata": {},
     "outputs": [],
     "prompt_number": 80
    },
    {
     "cell_type": "code",
     "collapsed": false,
     "input": [
      "survival_table\n"
     ],
     "language": "python",
     "metadata": {},
     "outputs": [
      {
       "metadata": {},
       "output_type": "pyout",
       "prompt_number": 81,
       "text": [
        "array([[[        nan,         nan,  0.83333333,  0.97727273],\n",
        "        [        nan,  0.91428571,  0.9       ,  1.        ],\n",
        "        [ 0.59375   ,  0.58139535,  0.33333333,  0.125     ]],\n",
        "\n",
        "       [[ 0.        ,         nan,  0.4       ,  0.38372093],\n",
        "        [ 0.        ,  0.15873016,  0.16      ,  0.21428571],\n",
        "        [ 0.11153846,  0.23684211,  0.125     ,  0.24      ]]])"
       ]
      }
     ],
     "prompt_number": 81
    },
    {
     "cell_type": "code",
     "collapsed": false,
     "input": [
      "import pandas as pd"
     ],
     "language": "python",
     "metadata": {},
     "outputs": [],
     "prompt_number": 82
    },
    {
     "cell_type": "code",
     "collapsed": false,
     "input": [
      "pd.set_option('html', False)"
     ],
     "language": "python",
     "metadata": {},
     "outputs": [],
     "prompt_number": 93
    },
    {
     "cell_type": "code",
     "collapsed": false,
     "input": [
      "df = pd.read_csv('titanic_data/train.csv', header=0)"
     ],
     "language": "python",
     "metadata": {},
     "outputs": [],
     "prompt_number": 94
    },
    {
     "cell_type": "code",
     "collapsed": false,
     "input": [
      "df.head(3)"
     ],
     "language": "python",
     "metadata": {},
     "outputs": [
      {
       "metadata": {},
       "output_type": "pyout",
       "prompt_number": 96,
       "text": [
        "   PassengerId  Survived  Pclass  \\\n",
        "0            1         0       3   \n",
        "1            2         1       1   \n",
        "2            3         1       3   \n",
        "\n",
        "                                                Name     Sex  Age  SibSp  \\\n",
        "0                            Braund, Mr. Owen Harris    male   22      1   \n",
        "1  Cumings, Mrs. John Bradley (Florence Briggs Th...  female   38      1   \n",
        "2                             Heikkinen, Miss. Laina  female   26      0   \n",
        "\n",
        "   Parch            Ticket     Fare Cabin Embarked  \n",
        "0      0         A/5 21171   7.2500   NaN        S  \n",
        "1      0          PC 17599  71.2833   C85        C  \n",
        "2      0  STON/O2. 3101282   7.9250   NaN        S  "
       ]
      }
     ],
     "prompt_number": 96
    },
    {
     "cell_type": "code",
     "collapsed": false,
     "input": [
      "df.dtypes"
     ],
     "language": "python",
     "metadata": {},
     "outputs": [
      {
       "metadata": {},
       "output_type": "pyout",
       "prompt_number": 98,
       "text": [
        "PassengerId      int64\n",
        "Survived         int64\n",
        "Pclass           int64\n",
        "Name            object\n",
        "Sex             object\n",
        "Age            float64\n",
        "SibSp            int64\n",
        "Parch            int64\n",
        "Ticket          object\n",
        "Fare           float64\n",
        "Cabin           object\n",
        "Embarked        object\n",
        "dtype: object"
       ]
      }
     ],
     "prompt_number": 98
    },
    {
     "cell_type": "code",
     "collapsed": false,
     "input": [
      "df.info()"
     ],
     "language": "python",
     "metadata": {},
     "outputs": [
      {
       "output_type": "stream",
       "stream": "stdout",
       "text": [
        "<class 'pandas.core.frame.DataFrame'>\n",
        "Int64Index: 891 entries, 0 to 890\n",
        "Data columns (total 12 columns):\n",
        "PassengerId    891 non-null int64\n",
        "Survived       891 non-null int64\n",
        "Pclass         891 non-null int64\n",
        "Name           891 non-null object\n",
        "Sex            891 non-null object\n",
        "Age            714 non-null float64\n",
        "SibSp          891 non-null int64\n",
        "Parch          891 non-null int64\n",
        "Ticket         891 non-null object\n",
        "Fare           891 non-null float64\n",
        "Cabin          204 non-null object\n",
        "Embarked       889 non-null object\n",
        "dtypes: float64(2), int64(5), object(5)\n",
        "memory usage: 90.5 KB\n"
       ]
      }
     ],
     "prompt_number": 99
    },
    {
     "cell_type": "code",
     "collapsed": false,
     "input": [
      "df.describe()"
     ],
     "language": "python",
     "metadata": {},
     "outputs": [
      {
       "metadata": {},
       "output_type": "pyout",
       "prompt_number": 100,
       "text": [
        "       PassengerId    Survived      Pclass         Age       SibSp  \\\n",
        "count   891.000000  891.000000  891.000000  714.000000  891.000000   \n",
        "mean    446.000000    0.383838    2.308642   29.699118    0.523008   \n",
        "std     257.353842    0.486592    0.836071   14.526497    1.102743   \n",
        "min       1.000000    0.000000    1.000000    0.420000    0.000000   \n",
        "25%     223.500000    0.000000    2.000000   20.125000    0.000000   \n",
        "50%     446.000000    0.000000    3.000000   28.000000    0.000000   \n",
        "75%     668.500000    1.000000    3.000000   38.000000    1.000000   \n",
        "max     891.000000    1.000000    3.000000   80.000000    8.000000   \n",
        "\n",
        "            Parch        Fare  \n",
        "count  891.000000  891.000000  \n",
        "mean     0.381594   32.204208  \n",
        "std      0.806057   49.693429  \n",
        "min      0.000000    0.000000  \n",
        "25%      0.000000    7.910400  \n",
        "50%      0.000000   14.454200  \n",
        "75%      0.000000   31.000000  \n",
        "max      6.000000  512.329200  "
       ]
      }
     ],
     "prompt_number": 100
    },
    {
     "cell_type": "code",
     "collapsed": false,
     "input": [
      "df.Age[1:10]"
     ],
     "language": "python",
     "metadata": {},
     "outputs": [
      {
       "metadata": {},
       "output_type": "pyout",
       "prompt_number": 101,
       "text": [
        "1    38\n",
        "2    26\n",
        "3    35\n",
        "4    35\n",
        "5   NaN\n",
        "6    54\n",
        "7     2\n",
        "8    27\n",
        "9    14\n",
        "Name: Age, dtype: float64"
       ]
      }
     ],
     "prompt_number": 101
    },
    {
     "cell_type": "code",
     "collapsed": false,
     "input": [
      "df.Cabin[1:10]"
     ],
     "language": "python",
     "metadata": {},
     "outputs": [
      {
       "metadata": {},
       "output_type": "pyout",
       "prompt_number": 107,
       "text": [
        "1     C85\n",
        "2     NaN\n",
        "3    C123\n",
        "4     NaN\n",
        "5     NaN\n",
        "6     E46\n",
        "7     NaN\n",
        "8     NaN\n",
        "9     NaN\n",
        "Name: Cabin, dtype: object"
       ]
      }
     ],
     "prompt_number": 107
    },
    {
     "cell_type": "code",
     "collapsed": false,
     "input": [
      "df.Age.mean()"
     ],
     "language": "python",
     "metadata": {},
     "outputs": [
      {
       "metadata": {},
       "output_type": "pyout",
       "prompt_number": 109,
       "text": [
        "29.69911764705882"
       ]
      }
     ],
     "prompt_number": 109
    },
    {
     "cell_type": "code",
     "collapsed": false,
     "input": [
      "df[['Sex', 'Pclass','Age']]"
     ],
     "language": "python",
     "metadata": {},
     "outputs": [
      {
       "metadata": {},
       "output_type": "pyout",
       "prompt_number": 110,
       "text": [
        "        Sex  Pclass  Age\n",
        "0      male       3   22\n",
        "1    female       1   38\n",
        "2    female       3   26\n",
        "3    female       1   35\n",
        "4      male       3   35\n",
        "5      male       3  NaN\n",
        "6      male       1   54\n",
        "7      male       3    2\n",
        "8    female       3   27\n",
        "9    female       2   14\n",
        "10   female       3    4\n",
        "11   female       1   58\n",
        "12     male       3   20\n",
        "13     male       3   39\n",
        "14   female       3   14\n",
        "15   female       2   55\n",
        "16     male       3    2\n",
        "17     male       2  NaN\n",
        "18   female       3   31\n",
        "19   female       3  NaN\n",
        "20     male       2   35\n",
        "21     male       2   34\n",
        "22   female       3   15\n",
        "23     male       1   28\n",
        "24   female       3    8\n",
        "25   female       3   38\n",
        "26     male       3  NaN\n",
        "27     male       1   19\n",
        "28   female       3  NaN\n",
        "29     male       3  NaN\n",
        "..      ...     ...  ...\n",
        "861    male       2   21\n",
        "862  female       1   48\n",
        "863  female       3  NaN\n",
        "864    male       2   24\n",
        "865  female       2   42\n",
        "866  female       2   27\n",
        "867    male       1   31\n",
        "868    male       3  NaN\n",
        "869    male       3    4\n",
        "870    male       3   26\n",
        "871  female       1   47\n",
        "872    male       1   33\n",
        "873    male       3   47\n",
        "874  female       2   28\n",
        "875  female       3   15\n",
        "876    male       3   20\n",
        "877    male       3   19\n",
        "878    male       3  NaN\n",
        "879  female       1   56\n",
        "880  female       2   25\n",
        "881    male       3   33\n",
        "882  female       3   22\n",
        "883    male       2   28\n",
        "884    male       3   25\n",
        "885  female       3   39\n",
        "886    male       2   27\n",
        "887  female       1   19\n",
        "888  female       3  NaN\n",
        "889    male       1   26\n",
        "890    male       3   32\n",
        "\n",
        "[891 rows x 3 columns]"
       ]
      }
     ],
     "prompt_number": 110
    },
    {
     "cell_type": "code",
     "collapsed": false,
     "input": [
      "df[df.Age > 60][['Sex','Pclass','Age','Survived']]"
     ],
     "language": "python",
     "metadata": {},
     "outputs": [
      {
       "metadata": {},
       "output_type": "pyout",
       "prompt_number": 112,
       "text": [
        "        Sex  Pclass   Age  Survived\n",
        "33     male       2  66.0         0\n",
        "54     male       1  65.0         0\n",
        "96     male       1  71.0         0\n",
        "116    male       3  70.5         0\n",
        "170    male       1  61.0         0\n",
        "252    male       1  62.0         0\n",
        "275  female       1  63.0         1\n",
        "280    male       3  65.0         0\n",
        "326    male       3  61.0         0\n",
        "438    male       1  64.0         0\n",
        "456    male       1  65.0         0\n",
        "483  female       3  63.0         1\n",
        "493    male       1  71.0         0\n",
        "545    male       1  64.0         0\n",
        "555    male       1  62.0         0\n",
        "570    male       2  62.0         1\n",
        "625    male       1  61.0         0\n",
        "630    male       1  80.0         1\n",
        "672    male       2  70.0         0\n",
        "745    male       1  70.0         0\n",
        "829  female       1  62.0         1\n",
        "851    male       3  74.0         0"
       ]
      }
     ],
     "prompt_number": 112
    },
    {
     "cell_type": "code",
     "collapsed": false,
     "input": [
      "df[df['Age'].isnull()][['Sex', 'Pclass', 'Age']]"
     ],
     "language": "python",
     "metadata": {},
     "outputs": [
      {
       "metadata": {},
       "output_type": "pyout",
       "prompt_number": 113,
       "text": [
        "        Sex  Pclass  Age\n",
        "5      male       3  NaN\n",
        "17     male       2  NaN\n",
        "19   female       3  NaN\n",
        "26     male       3  NaN\n",
        "28   female       3  NaN\n",
        "29     male       3  NaN\n",
        "31   female       1  NaN\n",
        "32   female       3  NaN\n",
        "36     male       3  NaN\n",
        "42     male       3  NaN\n",
        "45     male       3  NaN\n",
        "46     male       3  NaN\n",
        "47   female       3  NaN\n",
        "48     male       3  NaN\n",
        "55     male       1  NaN\n",
        "64     male       1  NaN\n",
        "65     male       3  NaN\n",
        "76     male       3  NaN\n",
        "77     male       3  NaN\n",
        "82   female       3  NaN\n",
        "87     male       3  NaN\n",
        "95     male       3  NaN\n",
        "101    male       3  NaN\n",
        "107    male       3  NaN\n",
        "109  female       3  NaN\n",
        "121    male       3  NaN\n",
        "126    male       3  NaN\n",
        "128  female       3  NaN\n",
        "140  female       3  NaN\n",
        "154    male       3  NaN\n",
        "..      ...     ...  ...\n",
        "718    male       3  NaN\n",
        "727  female       3  NaN\n",
        "732    male       2  NaN\n",
        "738    male       3  NaN\n",
        "739    male       3  NaN\n",
        "740    male       1  NaN\n",
        "760    male       3  NaN\n",
        "766    male       1  NaN\n",
        "768    male       3  NaN\n",
        "773    male       3  NaN\n",
        "776    male       3  NaN\n",
        "778    male       3  NaN\n",
        "783    male       3  NaN\n",
        "790    male       3  NaN\n",
        "792  female       3  NaN\n",
        "793    male       1  NaN\n",
        "815    male       1  NaN\n",
        "825    male       3  NaN\n",
        "826    male       3  NaN\n",
        "828    male       3  NaN\n",
        "832    male       3  NaN\n",
        "837    male       3  NaN\n",
        "839    male       1  NaN\n",
        "846    male       3  NaN\n",
        "849  female       1  NaN\n",
        "859    male       3  NaN\n",
        "863  female       3  NaN\n",
        "868    male       3  NaN\n",
        "878    male       3  NaN\n",
        "888  female       3  NaN\n",
        "\n",
        "[177 rows x 3 columns]"
       ]
      }
     ],
     "prompt_number": 113
    },
    {
     "cell_type": "code",
     "collapsed": false,
     "input": [
      "for i in range(1,4):\n",
      "    print i, len(df[ (df.Sex == 'male') & (df.Pclass==i) ])"
     ],
     "language": "python",
     "metadata": {},
     "outputs": [
      {
       "output_type": "stream",
       "stream": "stdout",
       "text": [
        " 1 122\n",
        "2 108\n",
        "3 347\n"
       ]
      }
     ],
     "prompt_number": 115
    },
    {
     "cell_type": "code",
     "collapsed": false,
     "input": [],
     "language": "python",
     "metadata": {},
     "outputs": []
    },
    {
     "cell_type": "code",
     "collapsed": false,
     "input": [
      "%matplotlib inline\n",
      "import pylab as p"
     ],
     "language": "python",
     "metadata": {},
     "outputs": [],
     "prompt_number": 119
    },
    {
     "cell_type": "code",
     "collapsed": false,
     "input": [
      "df.Age.hist()"
     ],
     "language": "python",
     "metadata": {},
     "outputs": [
      {
       "metadata": {},
       "output_type": "pyout",
       "prompt_number": 120,
       "text": [
        "<matplotlib.axes.AxesSubplot at 0x11558cd10>"
       ]
      },
      {
       "metadata": {},
       "output_type": "display_data",
       "png": "[encoded data removed]",
       "text": [
        "<matplotlib.figure.Figure at 0x11558c750>"
       ]
      }
     ],
     "prompt_number": 120
    },
    {
     "cell_type": "code",
     "collapsed": false,
     "input": [
      "df.Age.dropna().hist(bins=16, range=(0,80), alpha = .5)"
     ],
     "language": "python",
     "metadata": {},
     "outputs": [
      {
       "metadata": {},
       "output_type": "pyout",
       "prompt_number": 122,
       "text": [
        "<matplotlib.axes.AxesSubplot at 0x1134e56d0>"
       ]
      },
      {
       "metadata": {},
       "output_type": "display_data",
       "png": "[encoded data removed]",
       "text": [
        "<matplotlib.figure.Figure at 0x117f4b810>"
       ]
      }
     ],
     "prompt_number": 122
    },
    {
     "cell_type": "code",
     "collapsed": false,
     "input": [
      "df['Gender'] = 4"
     ],
     "language": "python",
     "metadata": {},
     "outputs": [],
     "prompt_number": 123
    },
    {
     "cell_type": "code",
     "collapsed": false,
     "input": [
      "df.Gender = df.Sex.map(lambda x : x[0].upper())"
     ],
     "language": "python",
     "metadata": {},
     "outputs": [],
     "prompt_number": 126
    },
    {
     "cell_type": "code",
     "collapsed": false,
     "input": [
      "df.Gender.head(5)"
     ],
     "language": "python",
     "metadata": {},
     "outputs": [
      {
       "metadata": {},
       "output_type": "pyout",
       "prompt_number": 128,
       "text": [
        "0    M\n",
        "1    F\n",
        "2    F\n",
        "3    F\n",
        "4    M\n",
        "Name: Gender, dtype: object"
       ]
      }
     ],
     "prompt_number": 128
    },
    {
     "cell_type": "code",
     "collapsed": false,
     "input": [
      "df.Gender = df.Sex.map({'female' : 0, 'male': 1})"
     ],
     "language": "python",
     "metadata": {},
     "outputs": [],
     "prompt_number": 129
    },
    {
     "cell_type": "code",
     "collapsed": false,
     "input": [
      "df.Gender.head(5)"
     ],
     "language": "python",
     "metadata": {},
     "outputs": [
      {
       "metadata": {},
       "output_type": "pyout",
       "prompt_number": 131,
       "text": [
        "0    1\n",
        "1    0\n",
        "2    0\n",
        "3    0\n",
        "4    1\n",
        "Name: Gender, dtype: int64"
       ]
      }
     ],
     "prompt_number": 131
    },
    {
     "cell_type": "code",
     "collapsed": false,
     "input": [
      "df.Embarked.unique().tolist()"
     ],
     "language": "python",
     "metadata": {},
     "outputs": [
      {
       "metadata": {},
       "output_type": "pyout",
       "prompt_number": 148,
       "text": [
        "['S', 'C', 'Q', nan]"
       ]
      }
     ],
     "prompt_number": 148
    },
    {
     "cell_type": "code",
     "collapsed": false,
     "input": [
      "uniq_emb = df.Embarked.unique().tolist()\n",
      "df['EmbarkedEnum'] = 0\n",
      "df.EmbarkedEnum = df.Embarked.map(lambda x : uniq_emb.index(x))"
     ],
     "language": "python",
     "metadata": {},
     "outputs": [],
     "prompt_number": 149
    },
    {
     "cell_type": "code",
     "collapsed": false,
     "input": [
      "df.head(10)"
     ],
     "language": "python",
     "metadata": {},
     "outputs": [
      {
       "metadata": {},
       "output_type": "pyout",
       "prompt_number": 151,
       "text": [
        "   PassengerId  Survived  Pclass  \\\n",
        "0            1         0       3   \n",
        "1            2         1       1   \n",
        "2            3         1       3   \n",
        "3            4         1       1   \n",
        "4            5         0       3   \n",
        "5            6         0       3   \n",
        "6            7         0       1   \n",
        "7            8         0       3   \n",
        "8            9         1       3   \n",
        "9           10         1       2   \n",
        "\n",
        "                                                Name     Sex  Age  SibSp  \\\n",
        "0                            Braund, Mr. Owen Harris    male   22      1   \n",
        "1  Cumings, Mrs. John Bradley (Florence Briggs Th...  female   38      1   \n",
        "2                             Heikkinen, Miss. Laina  female   26      0   \n",
        "3       Futrelle, Mrs. Jacques Heath (Lily May Peel)  female   35      1   \n",
        "4                           Allen, Mr. William Henry    male   35      0   \n",
        "5                                   Moran, Mr. James    male  NaN      0   \n",
        "6                            McCarthy, Mr. Timothy J    male   54      0   \n",
        "7                     Palsson, Master. Gosta Leonard    male    2      3   \n",
        "8  Johnson, Mrs. Oscar W (Elisabeth Vilhelmina Berg)  female   27      0   \n",
        "9                Nasser, Mrs. Nicholas (Adele Achem)  female   14      1   \n",
        "\n",
        "   Parch            Ticket     Fare Cabin Embarked  Gender  EmbarkedEnum  \n",
        "0      0         A/5 21171   7.2500   NaN        S       1             0  \n",
        "1      0          PC 17599  71.2833   C85        C       0             1  \n",
        "2      0  STON/O2. 3101282   7.9250   NaN        S       0             0  \n",
        "3      0            113803  53.1000  C123        S       0             0  \n",
        "4      0            373450   8.0500   NaN        S       1             0  \n",
        "5      0            330877   8.4583   NaN        Q       1             2  \n",
        "6      0             17463  51.8625   E46        S       1             0  \n",
        "7      1            349909  21.0750   NaN        S       1             0  \n",
        "8      2            347742  11.1333   NaN        S       0             0  \n",
        "9      0            237736  30.0708   NaN        C       0             1  "
       ]
      }
     ],
     "prompt_number": 151
    },
    {
     "cell_type": "code",
     "collapsed": false,
     "input": [
      "median_ages = np.zeros((2,3))\n",
      "for i in range(0,2):\n",
      "    for j in range(0,3):\n",
      "        median_ages[i,j] = df[(df['Gender'] == i) & \\\n",
      "                              (df['Pclass'] == j+1)]['Age'].dropna().median()\n",
      "median_ages"
     ],
     "language": "python",
     "metadata": {},
     "outputs": [
      {
       "metadata": {},
       "output_type": "pyout",
       "prompt_number": 161,
       "text": [
        "array([[ 35. ,  28. ,  21.5],\n",
        "       [ 40. ,  30. ,  25. ]])"
       ]
      }
     ],
     "prompt_number": 161
    },
    {
     "cell_type": "code",
     "collapsed": false,
     "input": [
      "df['AgeFill'] = df['Age']"
     ],
     "language": "python",
     "metadata": {},
     "outputs": [],
     "prompt_number": 162
    },
    {
     "cell_type": "code",
     "collapsed": false,
     "input": [
      "df[ df['Age'].isnull() ][['Gender','Pclass','Age','AgeFill']].head(10)"
     ],
     "language": "python",
     "metadata": {},
     "outputs": [
      {
       "metadata": {},
       "output_type": "pyout",
       "prompt_number": 163,
       "text": [
        "    Gender  Pclass  Age  AgeFill\n",
        "5        1       3  NaN      NaN\n",
        "17       1       2  NaN      NaN\n",
        "19       0       3  NaN      NaN\n",
        "26       1       3  NaN      NaN\n",
        "28       0       3  NaN      NaN\n",
        "29       1       3  NaN      NaN\n",
        "31       0       1  NaN      NaN\n",
        "32       0       3  NaN      NaN\n",
        "36       1       3  NaN      NaN\n",
        "42       1       3  NaN      NaN"
       ]
      }
     ],
     "prompt_number": 163
    },
    {
     "cell_type": "code",
     "collapsed": false,
     "input": [
      "for i in range(0, 2):\n",
      "    for j in range(0, 3):\n",
      "        df.loc[ (df.Age.isnull()) & (df.Gender == i) & (df.Pclass == j+1),\\\n",
      "                'AgeFill'] = median_ages[i,j]"
     ],
     "language": "python",
     "metadata": {},
     "outputs": [],
     "prompt_number": 165
    },
    {
     "cell_type": "code",
     "collapsed": false,
     "input": [
      "df[ df['Age'].isnull() ][['Gender','Pclass','Age','AgeFill']].head(10)"
     ],
     "language": "python",
     "metadata": {},
     "outputs": [
      {
       "metadata": {},
       "output_type": "pyout",
       "prompt_number": 166,
       "text": [
        "    Gender  Pclass  Age  AgeFill\n",
        "5        1       3  NaN     25.0\n",
        "17       1       2  NaN     30.0\n",
        "19       0       3  NaN     21.5\n",
        "26       1       3  NaN     25.0\n",
        "28       0       3  NaN     21.5\n",
        "29       1       3  NaN     25.0\n",
        "31       0       1  NaN     35.0\n",
        "32       0       3  NaN     21.5\n",
        "36       1       3  NaN     25.0\n",
        "42       1       3  NaN     25.0"
       ]
      }
     ],
     "prompt_number": 166
    },
    {
     "cell_type": "code",
     "collapsed": false,
     "input": [
      "df['AgeIsNull'] = pd.isnull(df['Age']).astype(int)\n",
      "df.head()"
     ],
     "language": "python",
     "metadata": {},
     "outputs": [
      {
       "metadata": {},
       "output_type": "pyout",
       "prompt_number": 169,
       "text": [
        "   PassengerId  Survived  Pclass  \\\n",
        "0            1         0       3   \n",
        "1            2         1       1   \n",
        "2            3         1       3   \n",
        "3            4         1       1   \n",
        "4            5         0       3   \n",
        "\n",
        "                                                Name     Sex  Age  SibSp  \\\n",
        "0                            Braund, Mr. Owen Harris    male   22      1   \n",
        "1  Cumings, Mrs. John Bradley (Florence Briggs Th...  female   38      1   \n",
        "2                             Heikkinen, Miss. Laina  female   26      0   \n",
        "3       Futrelle, Mrs. Jacques Heath (Lily May Peel)  female   35      1   \n",
        "4                           Allen, Mr. William Henry    male   35      0   \n",
        "\n",
        "   Parch            Ticket     Fare Cabin Embarked  Gender  EmbarkedEnum  \\\n",
        "0      0         A/5 21171   7.2500   NaN        S       1             0   \n",
        "1      0          PC 17599  71.2833   C85        C       0             1   \n",
        "2      0  STON/O2. 3101282   7.9250   NaN        S       0             0   \n",
        "3      0            113803  53.1000  C123        S       0             0   \n",
        "4      0            373450   8.0500   NaN        S       1             0   \n",
        "\n",
        "   AgeFill  AgeIsNull  \n",
        "0       22          0  \n",
        "1       38          0  \n",
        "2       26          0  \n",
        "3       35          0  \n",
        "4       35          0  "
       ]
      }
     ],
     "prompt_number": 169
    },
    {
     "cell_type": "code",
     "collapsed": false,
     "input": [],
     "language": "python",
     "metadata": {},
     "outputs": [
      {
       "metadata": {},
       "output_type": "pyout",
       "prompt_number": 172,
       "text": [
        "0     0\n",
        "1     0\n",
        "2     0\n",
        "3     0\n",
        "4     0\n",
        "5     1\n",
        "6     0\n",
        "7     0\n",
        "8     0\n",
        "9     0\n",
        "10    0\n",
        "11    0\n",
        "12    0\n",
        "13    0\n",
        "14    0\n",
        "...\n",
        "876    0\n",
        "877    0\n",
        "878    1\n",
        "879    0\n",
        "880    0\n",
        "881    0\n",
        "882    0\n",
        "883    0\n",
        "884    0\n",
        "885    0\n",
        "886    0\n",
        "887    0\n",
        "888    1\n",
        "889    0\n",
        "890    0\n",
        "Name: Age, Length: 891, dtype: int64"
       ]
      }
     ],
     "prompt_number": 172
    },
    {
     "cell_type": "code",
     "collapsed": false,
     "input": [
      "df['FamilySize'] = df['SibSp'] + df['Parch']"
     ],
     "language": "python",
     "metadata": {},
     "outputs": [],
     "prompt_number": 173
    },
    {
     "cell_type": "code",
     "collapsed": false,
     "input": [
      "df['Age*Class'] = df.AgeFill * df.Pclass"
     ],
     "language": "python",
     "metadata": {},
     "outputs": [],
     "prompt_number": 174
    },
    {
     "cell_type": "code",
     "collapsed": false,
     "input": [
      "df['Age*Class'].hist()"
     ],
     "language": "python",
     "metadata": {},
     "outputs": [
      {
       "metadata": {},
       "output_type": "pyout",
       "prompt_number": 175,
       "text": [
        "<matplotlib.axes.AxesSubplot at 0x11814b050>"
       ]
      },
      {
       "metadata": {},
       "output_type": "display_data",
       "png": "[encoded data removed]",
       "text": [
        "<matplotlib.figure.Figure at 0x118195c50>"
       ]
      }
     ],
     "prompt_number": 175
    },
    {
     "cell_type": "code",
     "collapsed": false,
     "input": [
      "df.dtypes"
     ],
     "language": "python",
     "metadata": {},
     "outputs": [
      {
       "metadata": {},
       "output_type": "pyout",
       "prompt_number": 176,
       "text": [
        "PassengerId       int64\n",
        "Survived          int64\n",
        "Pclass            int64\n",
        "Name             object\n",
        "Sex              object\n",
        "Age             float64\n",
        "SibSp             int64\n",
        "Parch             int64\n",
        "Ticket           object\n",
        "Fare            float64\n",
        "Cabin            object\n",
        "Embarked         object\n",
        "Gender            int64\n",
        "EmbarkedEnum      int64\n",
        "AgeFill         float64\n",
        "AgeIsNull         int64\n",
        "FamilySize        int64\n",
        "Age*Class       float64\n",
        "dtype: object"
       ]
      }
     ],
     "prompt_number": 176
    },
    {
     "cell_type": "code",
     "collapsed": false,
     "input": [
      "df.dtypes[df.dtypes.map(lambda x : x == 'object')]"
     ],
     "language": "python",
     "metadata": {},
     "outputs": [
      {
       "metadata": {},
       "output_type": "pyout",
       "prompt_number": 178,
       "text": [
        "Name        object\n",
        "Sex         object\n",
        "Ticket      object\n",
        "Cabin       object\n",
        "Embarked    object\n",
        "dtype: object"
       ]
      }
     ],
     "prompt_number": 178
    },
    {
     "cell_type": "code",
     "collapsed": false,
     "input": [
      "df = df.drop(['Name', 'Sex', 'Ticket', 'Cabin', 'Embarked', 'Age'], axis=1) "
     ],
     "language": "python",
     "metadata": {},
     "outputs": [],
     "prompt_number": 179
    },
    {
     "cell_type": "code",
     "collapsed": false,
     "input": [
      "df.describe()"
     ],
     "language": "python",
     "metadata": {},
     "outputs": [
      {
       "metadata": {},
       "output_type": "pyout",
       "prompt_number": 180,
       "text": [
        "       PassengerId    Survived      Pclass       SibSp       Parch  \\\n",
        "count   891.000000  891.000000  891.000000  891.000000  891.000000   \n",
        "mean    446.000000    0.383838    2.308642    0.523008    0.381594   \n",
        "std     257.353842    0.486592    0.836071    1.102743    0.806057   \n",
        "min       1.000000    0.000000    1.000000    0.000000    0.000000   \n",
        "25%     223.500000    0.000000    2.000000    0.000000    0.000000   \n",
        "50%     446.000000    0.000000    3.000000    0.000000    0.000000   \n",
        "75%     668.500000    1.000000    3.000000    1.000000    0.000000   \n",
        "max     891.000000    1.000000    3.000000    8.000000    6.000000   \n",
        "\n",
        "             Fare      Gender  EmbarkedEnum     AgeFill   AgeIsNull  \\\n",
        "count  891.000000  891.000000    891.000000  891.000000  891.000000   \n",
        "mean    32.204208    0.647587      0.368126   29.112424    0.198653   \n",
        "std     49.693429    0.477990      0.647601   13.304424    0.399210   \n",
        "min      0.000000    0.000000      0.000000    0.420000    0.000000   \n",
        "25%      7.910400    0.000000      0.000000   21.500000    0.000000   \n",
        "50%     14.454200    1.000000      0.000000   26.000000    0.000000   \n",
        "75%     31.000000    1.000000      1.000000   36.000000    0.000000   \n",
        "max    512.329200    1.000000      3.000000   80.000000    1.000000   \n",
        "\n",
        "       FamilySize   Age*Class  \n",
        "count  891.000000  891.000000  \n",
        "mean     0.904602   62.614860  \n",
        "std      1.613459   31.362024  \n",
        "min      0.000000    0.920000  \n",
        "25%      0.000000   40.000000  \n",
        "50%      0.000000   63.000000  \n",
        "75%      1.000000   75.000000  \n",
        "max     10.000000  222.000000  "
       ]
      }
     ],
     "prompt_number": 180
    },
    {
     "cell_type": "code",
     "collapsed": false,
     "input": [
      "train_data = df.values\n",
      "train_data"
     ],
     "language": "python",
     "metadata": {},
     "outputs": [
      {
       "metadata": {},
       "output_type": "pyout",
       "prompt_number": 181,
       "text": [
        "array([[   1. ,    0. ,    3. , ...,    0. ,    1. ,   66. ],\n",
        "       [   2. ,    1. ,    1. , ...,    0. ,    1. ,   38. ],\n",
        "       [   3. ,    1. ,    3. , ...,    0. ,    0. ,   78. ],\n",
        "       ..., \n",
        "       [ 889. ,    0. ,    3. , ...,    1. ,    3. ,   64.5],\n",
        "       [ 890. ,    1. ,    1. , ...,    0. ,    0. ,   26. ],\n",
        "       [ 891. ,    0. ,    3. , ...,    0. ,    0. ,   96. ]])"
       ]
      }
     ],
     "prompt_number": 181
    },
    {
     "cell_type": "code",
     "collapsed": false,
     "input": [
      "ax = df[df.Survived==1].plot(kind='scatter', x='AgeFill', y='Fare',\\\n",
      "             color='DarkBlue', label='Survived', s=2);\n",
      "df[df.Survived==0].plot(kind='scatter', x='AgeFill', y='Fare',\\\n",
      "             color='DarkGreen', label='Perished', ax=ax, s=2);"
     ],
     "language": "python",
     "metadata": {},
     "outputs": [
      {
       "metadata": {},
       "output_type": "display_data",
       "png": "[encoded data removed]",
       "text": [
        "<matplotlib.figure.Figure at 0x1183be290>"
       ]
      }
     ],
     "prompt_number": 196
    },
    {
     "cell_type": "code",
     "collapsed": false,
     "input": [
      "df.describe()"
     ],
     "language": "python",
     "metadata": {},
     "outputs": [
      {
       "metadata": {},
       "output_type": "pyout",
       "prompt_number": 197,
       "text": [
        "       PassengerId    Survived      Pclass       SibSp       Parch  \\\n",
        "count   891.000000  891.000000  891.000000  891.000000  891.000000   \n",
        "mean    446.000000    0.383838    2.308642    0.523008    0.381594   \n",
        "std     257.353842    0.486592    0.836071    1.102743    0.806057   \n",
        "min       1.000000    0.000000    1.000000    0.000000    0.000000   \n",
        "25%     223.500000    0.000000    2.000000    0.000000    0.000000   \n",
        "50%     446.000000    0.000000    3.000000    0.000000    0.000000   \n",
        "75%     668.500000    1.000000    3.000000    1.000000    0.000000   \n",
        "max     891.000000    1.000000    3.000000    8.000000    6.000000   \n",
        "\n",
        "             Fare      Gender  EmbarkedEnum     AgeFill   AgeIsNull  \\\n",
        "count  891.000000  891.000000    891.000000  891.000000  891.000000   \n",
        "mean    32.204208    0.647587      0.368126   29.112424    0.198653   \n",
        "std     49.693429    0.477990      0.647601   13.304424    0.399210   \n",
        "min      0.000000    0.000000      0.000000    0.420000    0.000000   \n",
        "25%      7.910400    0.000000      0.000000   21.500000    0.000000   \n",
        "50%     14.454200    1.000000      0.000000   26.000000    0.000000   \n",
        "75%     31.000000    1.000000      1.000000   36.000000    0.000000   \n",
        "max    512.329200    1.000000      3.000000   80.000000    1.000000   \n",
        "\n",
        "       FamilySize   Age*Class  \n",
        "count  891.000000  891.000000  \n",
        "mean     0.904602   62.614860  \n",
        "std      1.613459   31.362024  \n",
        "min      0.000000    0.920000  \n",
        "25%      0.000000   40.000000  \n",
        "50%      0.000000   63.000000  \n",
        "75%      1.000000   75.000000  \n",
        "max     10.000000  222.000000  "
       ]
      }
     ],
     "prompt_number": 197
    },
    {
     "cell_type": "code",
     "collapsed": false,
     "input": [],
     "language": "python",
     "metadata": {},
     "outputs": []
    }
   ],
   "metadata": {}
  }
 ]
}